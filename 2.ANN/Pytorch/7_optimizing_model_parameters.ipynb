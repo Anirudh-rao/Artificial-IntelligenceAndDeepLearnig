{
  "nbformat": 4,
  "nbformat_minor": 0,
  "metadata": {
    "colab": {
      "provenance": []
    },
    "kernelspec": {
      "name": "python3",
      "display_name": "Python 3"
    },
    "language_info": {
      "name": "python"
    }
  },
  "cells": [
    {
      "cell_type": "markdown",
      "source": [
        "Now that we have a model and data it’s time to train, validate and test our model by optimizing its parameters on our data. Training a model is an iterative process; in each iteration the model makes a guess about the output, calculates the error in its guess (loss), collects the derivatives of the error with respect to its parameters (as we saw in the previous section), and optimizes these parameters using gradient descent. For a more detailed walkthrough of this process, check out this video on backpropagation from 3Blue1Brown."
      ],
      "metadata": {
        "id": "eSD-LxOtZf-O"
      }
    },
    {
      "cell_type": "code",
      "execution_count": 1,
      "metadata": {
        "id": "EJ7gJCzkZasD"
      },
      "outputs": [],
      "source": [
        "import torch\n",
        "from torch import nn\n",
        "from torch.utils.data import DataLoader\n",
        "from torchvision import datasets\n",
        "from torchvision.transforms import ToTensor\n"
      ]
    },
    {
      "cell_type": "code",
      "source": [
        "training_data =  datasets.FashionMNIST(\n",
        "    root = \"data\",\n",
        "    train  =  True,\n",
        "    download = True,\n",
        "    transform = ToTensor()\n",
        ")\n",
        "\n",
        "testing_data =  datasets.FashionMNIST(\n",
        "    root = \"data\",\n",
        "    train = False,\n",
        "    download = True,\n",
        "    transform =  ToTensor()\n",
        ")\n",
        "\n",
        "train =  DataLoader(training_data, batch_size=64)\n",
        "test =  DataLoader(testing_data, batch_size=64)\n"
      ],
      "metadata": {
        "colab": {
          "base_uri": "https://localhost:8080/"
        },
        "id": "8up7kjFo_0QS",
        "outputId": "c6c060eb-247d-47e1-b3ee-7dd54b2638f8"
      },
      "execution_count": 2,
      "outputs": [
        {
          "output_type": "stream",
          "name": "stdout",
          "text": [
            "Downloading http://fashion-mnist.s3-website.eu-central-1.amazonaws.com/train-images-idx3-ubyte.gz\n",
            "Downloading http://fashion-mnist.s3-website.eu-central-1.amazonaws.com/train-images-idx3-ubyte.gz to data/FashionMNIST/raw/train-images-idx3-ubyte.gz\n"
          ]
        },
        {
          "output_type": "stream",
          "name": "stderr",
          "text": [
            "100%|██████████| 26421880/26421880 [00:03<00:00, 8646334.87it/s] \n"
          ]
        },
        {
          "output_type": "stream",
          "name": "stdout",
          "text": [
            "Extracting data/FashionMNIST/raw/train-images-idx3-ubyte.gz to data/FashionMNIST/raw\n",
            "\n",
            "Downloading http://fashion-mnist.s3-website.eu-central-1.amazonaws.com/train-labels-idx1-ubyte.gz\n",
            "Downloading http://fashion-mnist.s3-website.eu-central-1.amazonaws.com/train-labels-idx1-ubyte.gz to data/FashionMNIST/raw/train-labels-idx1-ubyte.gz\n"
          ]
        },
        {
          "output_type": "stream",
          "name": "stderr",
          "text": [
            "100%|██████████| 29515/29515 [00:00<00:00, 138511.29it/s]\n"
          ]
        },
        {
          "output_type": "stream",
          "name": "stdout",
          "text": [
            "Extracting data/FashionMNIST/raw/train-labels-idx1-ubyte.gz to data/FashionMNIST/raw\n",
            "\n",
            "Downloading http://fashion-mnist.s3-website.eu-central-1.amazonaws.com/t10k-images-idx3-ubyte.gz\n",
            "Downloading http://fashion-mnist.s3-website.eu-central-1.amazonaws.com/t10k-images-idx3-ubyte.gz to data/FashionMNIST/raw/t10k-images-idx3-ubyte.gz\n"
          ]
        },
        {
          "output_type": "stream",
          "name": "stderr",
          "text": [
            "100%|██████████| 4422102/4422102 [00:01<00:00, 2533669.32it/s]\n"
          ]
        },
        {
          "output_type": "stream",
          "name": "stdout",
          "text": [
            "Extracting data/FashionMNIST/raw/t10k-images-idx3-ubyte.gz to data/FashionMNIST/raw\n",
            "\n",
            "Downloading http://fashion-mnist.s3-website.eu-central-1.amazonaws.com/t10k-labels-idx1-ubyte.gz\n",
            "Downloading http://fashion-mnist.s3-website.eu-central-1.amazonaws.com/t10k-labels-idx1-ubyte.gz to data/FashionMNIST/raw/t10k-labels-idx1-ubyte.gz\n"
          ]
        },
        {
          "output_type": "stream",
          "name": "stderr",
          "text": [
            "100%|██████████| 5148/5148 [00:00<00:00, 19296047.36it/s]"
          ]
        },
        {
          "output_type": "stream",
          "name": "stdout",
          "text": [
            "Extracting data/FashionMNIST/raw/t10k-labels-idx1-ubyte.gz to data/FashionMNIST/raw\n",
            "\n"
          ]
        },
        {
          "output_type": "stream",
          "name": "stderr",
          "text": [
            "\n"
          ]
        }
      ]
    },
    {
      "cell_type": "code",
      "source": [
        "class NeuralNetwork(nn.Module):\n",
        "  def __init__(self):\n",
        "    super().__init__()\n",
        "    self.flatten =  nn.Flatten()\n",
        "    self.linear_relu_stack =  nn.Sequential(\n",
        "        nn.Linear(28*28, 512),\n",
        "        nn.ReLU(),\n",
        "        nn.Linear(512,512),\n",
        "        nn.ReLU(),\n",
        "        nn.Linear(512,10),\n",
        "    )\n",
        "  def forward(self,x):\n",
        "    x =  self.flatten(x)\n",
        "    logits = self.linear_relu_stack(x)\n",
        "    return logits\n",
        "\n",
        "model=  NeuralNetwork()\n"
      ],
      "metadata": {
        "id": "6TVM1f8WABHE"
      },
      "execution_count": 5,
      "outputs": []
    },
    {
      "cell_type": "markdown",
      "source": [
        "# Hyperparameters\n",
        "Hyperparameters are adjustable parameters that let you control the model optimization process. Different hyperparameter values can impact model training and convergence rates (read more about hyperparameter tuning)\n",
        "\n",
        "We define the following hyperparameters for training:\n",
        "1. Number of Epochs - the number times to iterate over the dataset\n",
        "\n",
        "2. Batch Size - the number of data samples propagated through the network before the parameters are updated\n",
        "\n",
        "3. Learning Rate - how much to update models parameters at each batch/epoch. Smaller values yield slow learning speed, while large values may result in unpredictable behavior during traini"
      ],
      "metadata": {
        "id": "CSijgh9wAybx"
      }
    },
    {
      "cell_type": "code",
      "source": [
        "learning_rate = 1e-3\n",
        "batch_size = 64\n",
        "epochs = 5"
      ],
      "metadata": {
        "id": "I50qIvG_AtGh"
      },
      "execution_count": 6,
      "outputs": []
    },
    {
      "cell_type": "markdown",
      "source": [
        "## Optimization Loop\n",
        "Once we set our hyperparameters, we can then train and optimize our model with an optimization loop. Each iteration of the optimization loop is called an epoch.\n",
        "\n",
        "Each epoch consists of two main parts:\n",
        "1. The Train Loop - iterate over the training dataset and try to converge to optimal parameters.\n",
        "\n",
        "2. The Validation/Test Loop - iterate over the test dataset to check if model performance is improving.\n",
        "\n",
        "Let’s briefly familiarize ourselves with some of the concepts used in the training loop. Jump ahead to see the Full Implementation of the optimization loop.\n",
        "\n",
        "## Loss Function\n",
        "When presented with some training data, our untrained network is likely not to give the correct answer. Loss function measures the degree of dissimilarity of obtained result to the target value, and it is the loss function that we want to minimize during training. To calculate the loss we make a prediction using the inputs of our given data sample and compare it against the true data label value.\n",
        "\n",
        "Common loss functions include nn.MSELoss (Mean Square Error) for regression tasks, and nn.NLLLoss (Negative Log Likelihood) for classification. nn.CrossEntropyLoss combines nn.LogSoftmax and nn.NLLLoss.\n",
        "\n",
        "We pass our model’s output logits to nn.CrossEntropyLoss, which will normalize the logits and compute the prediction error."
      ],
      "metadata": {
        "id": "PDWsR7v9A-8W"
      }
    },
    {
      "cell_type": "code",
      "source": [
        "# Initialize the loss function\n",
        "loss_fn = nn.CrossEntropyLoss()"
      ],
      "metadata": {
        "id": "gs6daQYRA8c6"
      },
      "execution_count": 7,
      "outputs": []
    },
    {
      "cell_type": "markdown",
      "source": [
        "## Optimizer\n",
        "Optimization is the process of adjusting model parameters to reduce model error in each training step. Optimization algorithms define how this process is performed (in this example we use Stochastic Gradient Descent). All optimization logic is encapsulated in the optimizer object. Here, we use the SGD optimizer; additionally, there are many different optimizers available in PyTorch such as ADAM and RMSProp, that work better for different kinds of models and data.\n",
        "\n",
        "We initialize the optimizer by registering the model’s parameters that need to be trained, and passing in the learning rate hyperparameter."
      ],
      "metadata": {
        "id": "WGeUIX8oBN-0"
      }
    },
    {
      "cell_type": "code",
      "source": [
        "optimizer = torch.optim.SGD(model.parameters(), lr=learning_rate)"
      ],
      "metadata": {
        "id": "DXEp_2bnBHcW"
      },
      "execution_count": 8,
      "outputs": []
    },
    {
      "cell_type": "markdown",
      "source": [
        "Inside the training loop, optimization happens in three steps:\n",
        "1. Call optimizer.zero_grad() to reset the gradients of model parameters. Gradients by default add up; to prevent double-counting, we explicitly zero them at each iteration.\n",
        "\n",
        "2. Backpropagate the prediction loss with a call to loss.backward(). PyTorch deposits the gradients of the loss w.r.t. each parameter.\n",
        "\n",
        "3. Once we have our gradients, we call optimizer.step() to adjust the parameters by the gradients collected in the backward pass.\n",
        "\n",
        "\n",
        "## Full Implementation\n",
        "We define train_loop that loops over our optimization code, and test_loop that evaluates the model’s performance against our test data"
      ],
      "metadata": {
        "id": "aziqVDctBZwz"
      }
    },
    {
      "cell_type": "code",
      "source": [
        "def train_loop(dataloader, model, loss_fn, optimizer):\n",
        "  size =  len(dataloader.dataset)\n",
        "  # Set the model to training mode - important for batch normalization and dropout layers\n",
        "  # Unnecessary in this situation but added for best practices\n",
        "  model.train()\n",
        "  for batch,(X, y) in enumerate(dataloader):\n",
        "    pred = model(X)\n",
        "    loss =  loss_fn(pred,y)\n",
        "    #backpropogation\n",
        "    loss.backward()\n",
        "    optimizer.step()\n",
        "    optimizer.zero_grad()\n",
        "\n",
        "    if batch % 100 == 0:\n",
        "      loss, current =  loss.item(), (batch+1)*len(X)\n",
        "      print(f\"loss:{loss:>7f}[{current:>5d}/{size:>5d}]\")\n",
        "\n",
        "def test_loop(dataloader, model, loss_fn):\n",
        "    # Set the model to evaluation mode - important for batch normalization and dropout layers\n",
        "    # Unnecessary in this situation but added for best practices\n",
        "    model.eval()\n",
        "    size =  len(dataloader.dataset)\n",
        "    num_batches =  len(dataloader)\n",
        "    test_loss , correct = 0,0\n",
        "    # Evaluating the model with torch.no_grad() ensures that no gradients are computed during test mode\n",
        "    # also serves to reduce unnecessary gradient computations and memory usage for tensors with requires_grad=True\n",
        "\n",
        "    with torch.no_grad():\n",
        "      for X,y in dataloader:\n",
        "        pred =  model(X)\n",
        "        test_loss += loss_fn(pred,y).item()\n",
        "        correct += (pred.argmax(1)==y).type(torch.float).sum().item()\n",
        "    test_loss /= num_batches\n",
        "    correct /= size\n",
        "    print(f\"Test Error: \\n Accuracy: {(100*correct):>0.1f}%, Avg loss: {test_loss:>8f} \\n\")"
      ],
      "metadata": {
        "id": "6O6BfZbvBSN6"
      },
      "execution_count": 12,
      "outputs": []
    },
    {
      "cell_type": "markdown",
      "source": [
        "We initialize the loss function and optimizer, and pass it to train_loop and test_loop. Feel free to increase the number of epochs to track the model’s improving performance."
      ],
      "metadata": {
        "id": "qs7tjhmaDBnd"
      }
    },
    {
      "cell_type": "code",
      "source": [
        "loss_fn = nn.CrossEntropyLoss()\n",
        "optimizer = torch.optim.SGD(model.parameters(), lr=learning_rate)\n",
        "\n",
        "epochs = 10\n",
        "for t in range(epochs):\n",
        "    print(f\"Epoch {t+1}\\n-------------------------------\")\n",
        "    train_loop(train, model, loss_fn, optimizer)\n",
        "    test_loop(test, model, loss_fn)\n",
        "print(\"Done!\")"
      ],
      "metadata": {
        "colab": {
          "base_uri": "https://localhost:8080/"
        },
        "id": "zrreOkzODB-T",
        "outputId": "41d2286d-d470-45c6-d8c6-bc222129a89d"
      },
      "execution_count": 13,
      "outputs": [
        {
          "output_type": "stream",
          "name": "stdout",
          "text": [
            "Epoch 1\n",
            "-------------------------------\n",
            "loss:2.317640[   64/60000]\n",
            "loss:2.300056[ 6464/60000]\n",
            "loss:2.283798[12864/60000]\n",
            "loss:2.266202[19264/60000]\n",
            "loss:2.241877[25664/60000]\n",
            "loss:2.227216[32064/60000]\n",
            "loss:2.229166[38464/60000]\n",
            "loss:2.207797[44864/60000]\n",
            "loss:2.201771[51264/60000]\n",
            "loss:2.150528[57664/60000]\n",
            "Test Error: \n",
            " Accuracy: 40.7%, Avg loss: 2.156500 \n",
            "\n",
            "Epoch 2\n",
            "-------------------------------\n",
            "loss:2.176528[   64/60000]\n",
            "loss:2.164522[ 6464/60000]\n",
            "loss:2.117493[12864/60000]\n",
            "loss:2.119777[19264/60000]\n",
            "loss:2.066458[25664/60000]\n",
            "loss:2.023382[32064/60000]\n",
            "loss:2.036442[38464/60000]\n",
            "loss:1.976722[44864/60000]\n",
            "loss:1.977183[51264/60000]\n",
            "loss:1.888890[57664/60000]\n",
            "Test Error: \n",
            " Accuracy: 51.4%, Avg loss: 1.898631 \n",
            "\n",
            "Epoch 3\n",
            "-------------------------------\n",
            "loss:1.940483[   64/60000]\n",
            "loss:1.911478[ 6464/60000]\n",
            "loss:1.810316[12864/60000]\n",
            "loss:1.828890[19264/60000]\n",
            "loss:1.727642[25664/60000]\n",
            "loss:1.687638[32064/60000]\n",
            "loss:1.687206[38464/60000]\n",
            "loss:1.609777[44864/60000]\n",
            "loss:1.627018[51264/60000]\n",
            "loss:1.513259[57664/60000]\n",
            "Test Error: \n",
            " Accuracy: 57.7%, Avg loss: 1.537031 \n",
            "\n",
            "Epoch 4\n",
            "-------------------------------\n",
            "loss:1.606786[   64/60000]\n",
            "loss:1.574051[ 6464/60000]\n",
            "loss:1.436793[12864/60000]\n",
            "loss:1.497285[19264/60000]\n",
            "loss:1.380309[25664/60000]\n",
            "loss:1.373379[32064/60000]\n",
            "loss:1.376979[38464/60000]\n",
            "loss:1.317440[44864/60000]\n",
            "loss:1.344685[51264/60000]\n",
            "loss:1.244002[57664/60000]\n",
            "Test Error: \n",
            " Accuracy: 62.5%, Avg loss: 1.268207 \n",
            "\n",
            "Epoch 5\n",
            "-------------------------------\n",
            "loss:1.341950[   64/60000]\n",
            "loss:1.326213[ 6464/60000]\n",
            "loss:1.172073[12864/60000]\n",
            "loss:1.275591[19264/60000]\n",
            "loss:1.142583[25664/60000]\n",
            "loss:1.167552[32064/60000]\n",
            "loss:1.180910[38464/60000]\n",
            "loss:1.135011[44864/60000]\n",
            "loss:1.165726[51264/60000]\n",
            "loss:1.079703[57664/60000]\n",
            "Test Error: \n",
            " Accuracy: 64.5%, Avg loss: 1.097728 \n",
            "\n",
            "Epoch 6\n",
            "-------------------------------\n",
            "loss:1.164171[   64/60000]\n",
            "loss:1.166451[ 6464/60000]\n",
            "loss:0.997146[12864/60000]\n",
            "loss:1.132387[19264/60000]\n",
            "loss:0.994375[25664/60000]\n",
            "loss:1.028652[32064/60000]\n",
            "loss:1.057596[38464/60000]\n",
            "loss:1.017986[44864/60000]\n",
            "loss:1.049505[51264/60000]\n",
            "loss:0.973783[57664/60000]\n",
            "Test Error: \n",
            " Accuracy: 65.9%, Avg loss: 0.987063 \n",
            "\n",
            "Epoch 7\n",
            "-------------------------------\n",
            "loss:1.041549[   64/60000]\n",
            "loss:1.062196[ 6464/60000]\n",
            "loss:0.877660[12864/60000]\n",
            "loss:1.036227[19264/60000]\n",
            "loss:0.901707[25664/60000]\n",
            "loss:0.931144[32064/60000]\n",
            "loss:0.976465[38464/60000]\n",
            "loss:0.940987[44864/60000]\n",
            "loss:0.969219[51264/60000]\n",
            "loss:0.902430[57664/60000]\n",
            "Test Error: \n",
            " Accuracy: 67.5%, Avg loss: 0.912033 \n",
            "\n",
            "Epoch 8\n",
            "-------------------------------\n",
            "loss:0.952033[   64/60000]\n",
            "loss:0.990465[ 6464/60000]\n",
            "loss:0.792763[12864/60000]\n",
            "loss:0.968778[19264/60000]\n",
            "loss:0.841295[25664/60000]\n",
            "loss:0.860465[32064/60000]\n",
            "loss:0.919407[38464/60000]\n",
            "loss:0.888750[44864/60000]\n",
            "loss:0.911193[51264/60000]\n",
            "loss:0.851430[57664/60000]\n",
            "Test Error: \n",
            " Accuracy: 68.5%, Avg loss: 0.858353 \n",
            "\n",
            "Epoch 9\n",
            "-------------------------------\n",
            "loss:0.883195[   64/60000]\n",
            "loss:0.937765[ 6464/60000]\n",
            "loss:0.729769[12864/60000]\n",
            "loss:0.919178[19264/60000]\n",
            "loss:0.799213[25664/60000]\n",
            "loss:0.807504[32064/60000]\n",
            "loss:0.876413[38464/60000]\n",
            "loss:0.851690[44864/60000]\n",
            "loss:0.867456[51264/60000]\n",
            "loss:0.812846[57664/60000]\n",
            "Test Error: \n",
            " Accuracy: 69.8%, Avg loss: 0.817963 \n",
            "\n",
            "Epoch 10\n",
            "-------------------------------\n",
            "loss:0.828094[   64/60000]\n",
            "loss:0.896542[ 6464/60000]\n",
            "loss:0.681100[12864/60000]\n",
            "loss:0.881195[19264/60000]\n",
            "loss:0.767719[25664/60000]\n",
            "loss:0.766824[32064/60000]\n",
            "loss:0.841807[38464/60000]\n",
            "loss:0.824263[44864/60000]\n",
            "loss:0.833011[51264/60000]\n",
            "loss:0.781981[57664/60000]\n",
            "Test Error: \n",
            " Accuracy: 70.9%, Avg loss: 0.786045 \n",
            "\n",
            "Done!\n"
          ]
        }
      ]
    },
    {
      "cell_type": "code",
      "source": [],
      "metadata": {
        "id": "KLrttsYyDD74"
      },
      "execution_count": null,
      "outputs": []
    }
  ]
}